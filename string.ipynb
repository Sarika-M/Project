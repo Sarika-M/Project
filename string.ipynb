{
 "cells": [
  {
   "cell_type": "markdown",
   "id": "d6daf8e2-77d7-41ff-ac6b-b7dfca74aee1",
   "metadata": {},
   "source": [
    "String slicing"
   ]
  },
  {
   "cell_type": "markdown",
   "id": "7e6a24ab-dfb4-4b68-8fee-decc3e4e6956",
   "metadata": {},
   "source": [
    "string slice"
   ]
  },
  {
   "cell_type": "code",
   "execution_count": 4,
   "id": "8a402b1e-ca07-45a1-bbbb-e180b5298348",
   "metadata": {},
   "outputs": [],
   "source": [
    "str=\"Happy\""
   ]
  },
  {
   "cell_type": "markdown",
   "id": "2c1f221e-65e8-47ee-87d9-65954d004025",
   "metadata": {},
   "source": [
    "h  a   p  p  y\n",
    "0  1   2  3  4\n",
    "-5 -4 -3 -2 -1"
   ]
  },
  {
   "cell_type": "code",
   "execution_count": 5,
   "id": "8d37cd1f-e17b-4901-a790-661229963072",
   "metadata": {},
   "outputs": [
    {
     "name": "stdout",
     "output_type": "stream",
     "text": [
      "H\n",
      "H\n"
     ]
    }
   ],
   "source": [
    "print(str[0])\n",
    "print(str[-5])"
   ]
  },
  {
   "cell_type": "code",
   "execution_count": 7,
   "id": "fedfacab-5900-43e9-bb2f-ec8b7a219fd1",
   "metadata": {},
   "outputs": [
    {
     "name": "stdout",
     "output_type": "stream",
     "text": [
      "Ha\n",
      "Ha\n",
      "Ha\n"
     ]
    }
   ],
   "source": [
    "print(str[0:2])\n",
    "print(str[-5:-3])\n",
    "x=slice(0,2)\n",
    "print(str[x])"
   ]
  },
  {
   "cell_type": "code",
   "execution_count": 8,
   "id": "6f48e52a-6c68-4974-824b-774254def57f",
   "metadata": {},
   "outputs": [
    {
     "name": "stdout",
     "output_type": "stream",
     "text": [
      "Hap\n",
      "Hap\n",
      "Hap\n"
     ]
    }
   ],
   "source": [
    "print(str[0:3])\n",
    "print(str[-5:-2])\n",
    "x=slice(0,3)\n",
    "print(str[x])"
   ]
  },
  {
   "cell_type": "code",
   "execution_count": 9,
   "id": "b7c6d39a-559f-440e-a202-cfdb288b5cf2",
   "metadata": {},
   "outputs": [
    {
     "name": "stdout",
     "output_type": "stream",
     "text": [
      "Happ\n",
      "Happ\n",
      "Happ\n"
     ]
    }
   ],
   "source": [
    "print(str[0:4])\n",
    "print(str[-5:-1])\n",
    "x=slice(0,4)\n",
    "print(str[x])"
   ]
  },
  {
   "cell_type": "code",
   "execution_count": 24,
   "id": "422ab94c-3668-4d00-b413-394e5453659f",
   "metadata": {},
   "outputs": [
    {
     "name": "stdout",
     "output_type": "stream",
     "text": [
      "y\n",
      "y\n",
      "y\n"
     ]
    }
   ],
   "source": [
    "print(str[4:])\n",
    "print(str[-1])\n",
    "x=slice(4,5)\n",
    "print(str[x])"
   ]
  },
  {
   "cell_type": "code",
   "execution_count": 28,
   "id": "82b1ac1d-94a7-44ed-9f8f-c8be898511ec",
   "metadata": {},
   "outputs": [
    {
     "name": "stdout",
     "output_type": "stream",
     "text": [
      "py\n",
      "py\n",
      "py\n"
     ]
    }
   ],
   "source": [
    "print(str[3:])\n",
    "print(str[-2:])\n",
    "x=slice(3,5)\n",
    "print(str[x])"
   ]
  },
  {
   "cell_type": "code",
   "execution_count": 29,
   "id": "47f52291-0323-4b6b-97aa-9c594e471346",
   "metadata": {},
   "outputs": [
    {
     "name": "stdout",
     "output_type": "stream",
     "text": [
      "ppy\n",
      "ppy\n",
      "ppy\n"
     ]
    }
   ],
   "source": [
    "print(str[2:])\n",
    "print(str[-3:])\n",
    "x=slice(2,5)\n",
    "print(str[x])"
   ]
  },
  {
   "cell_type": "code",
   "execution_count": 30,
   "id": "93e7642d-dea7-4ecb-b201-4ba689fcf31b",
   "metadata": {},
   "outputs": [
    {
     "name": "stdout",
     "output_type": "stream",
     "text": [
      "appy\n",
      "appy\n",
      "appy\n"
     ]
    }
   ],
   "source": [
    "print(str[1:])\n",
    "print(str[-4:])\n",
    "x=slice(1,5)\n",
    "print(str[x])"
   ]
  },
  {
   "cell_type": "code",
   "execution_count": 31,
   "id": "3ee5d53a-5428-46c9-a2f1-585ea3c12c29",
   "metadata": {},
   "outputs": [
    {
     "name": "stdout",
     "output_type": "stream",
     "text": [
      "Happy\n",
      "Happy\n",
      "Happy\n"
     ]
    }
   ],
   "source": [
    "print(str[0:])\n",
    "print(str[-5:])\n",
    "x=slice(0,5)\n",
    "print(str[x])"
   ]
  },
  {
   "cell_type": "code",
   "execution_count": null,
   "id": "56bde436-8d19-4778-be38-8a37ffb9487d",
   "metadata": {},
   "outputs": [],
   "source": []
  }
 ],
 "metadata": {
  "kernelspec": {
   "display_name": "Python 3 (ipykernel)",
   "language": "python",
   "name": "python3"
  },
  "language_info": {
   "codemirror_mode": {
    "name": "ipython",
    "version": 3
   },
   "file_extension": ".py",
   "mimetype": "text/x-python",
   "name": "python",
   "nbconvert_exporter": "python",
   "pygments_lexer": "ipython3",
   "version": "3.11.6"
  }
 },
 "nbformat": 4,
 "nbformat_minor": 5
}
